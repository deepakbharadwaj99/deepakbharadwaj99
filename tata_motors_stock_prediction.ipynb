{
  "nbformat": 4,
  "nbformat_minor": 0,
  "metadata": {
    "colab": {
      "provenance": [],
      "authorship_tag": "ABX9TyM+4HJNUeto+USNVwB2zhpv",
      "include_colab_link": true
    },
    "kernelspec": {
      "name": "python3",
      "display_name": "Python 3"
    },
    "language_info": {
      "name": "python"
    }
  },
  "cells": [
    {
      "cell_type": "markdown",
      "metadata": {
        "id": "view-in-github",
        "colab_type": "text"
      },
      "source": [
        "<a href=\"https://colab.research.google.com/github/deepakbharadwaj99/deepakbharadwaj99/blob/main/tata_motors_stock_prediction.ipynb\" target=\"_parent\"><img src=\"https://colab.research.google.com/assets/colab-badge.svg\" alt=\"Open In Colab\"/></a>"
      ]
    },
    {
      "cell_type": "code",
      "source": [
        "import yfinance as yf\n",
        "import pandas as pd\n",
        "import numpy as np\n",
        "from sklearn.preprocessing import MinMaxScaler\n",
        "from tensorflow.keras.models import Sequential\n",
        "from tensorflow.keras.layers import LSTM, Dense\n"
      ],
      "metadata": {
        "id": "zIFvJ-mDPfeg"
      },
      "execution_count": 46,
      "outputs": []
    },
    {
      "cell_type": "code",
      "source": [
        "# Defining the stock symbol and the date range\n",
        "symbol = 'TATAMOTORS.NS'\n",
        "start_date = '2020-01-01'\n",
        "end_date = '2022-01-01'\n",
        "\n",
        "data = yf.download(symbol, start=start_date, end=end_date)\n"
      ],
      "metadata": {
        "colab": {
          "base_uri": "https://localhost:8080/"
        },
        "id": "GmljLgQiG95n",
        "outputId": "d202c4b6-91c4-4540-be50-d04654e58aba"
      },
      "execution_count": 47,
      "outputs": [
        {
          "output_type": "stream",
          "name": "stdout",
          "text": [
            "\r[*********************100%%**********************]  1 of 1 completed\n"
          ]
        }
      ]
    },
    {
      "cell_type": "code",
      "source": [
        "# Extracting Closing prices\n",
        "data = data[['Close']]\n",
        "\n",
        "# Normalizing data\n",
        "scaler = MinMaxScaler()\n",
        "data['Close'] = scaler.fit_transform(data[['Close']])\n",
        "\n",
        "# Converting data into sequences for LSTM\n",
        "sequence_length = 10  # Number of days to use for prediction\n",
        "X, y = [], []\n",
        "\n",
        "for i in range(len(data) - sequence_length):\n",
        "    X.append(data['Close'].iloc[i:i+sequence_length])\n",
        "    y.append(data['Close'].iloc[i+sequence_length])\n",
        "\n",
        "X, y = np.array(X), np.array(y)\n",
        "\n",
        "# Reshaping data for LSTM input (samples, time steps, features)\n",
        "X = np.reshape(X, (X.shape[0], sequence_length, 1))\n"
      ],
      "metadata": {
        "colab": {
          "base_uri": "https://localhost:8080/"
        },
        "id": "4pZL2hiZPteL",
        "outputId": "5104a341-e9df-414f-ff05-5f4d02e052f3"
      },
      "execution_count": 48,
      "outputs": [
        {
          "output_type": "stream",
          "name": "stderr",
          "text": [
            "<ipython-input-48-5f50086d827d>:6: SettingWithCopyWarning: \n",
            "A value is trying to be set on a copy of a slice from a DataFrame.\n",
            "Try using .loc[row_indexer,col_indexer] = value instead\n",
            "\n",
            "See the caveats in the documentation: https://pandas.pydata.org/pandas-docs/stable/user_guide/indexing.html#returning-a-view-versus-a-copy\n",
            "  data['Close'] = scaler.fit_transform(data[['Close']])\n"
          ]
        }
      ]
    },
    {
      "cell_type": "code",
      "source": [
        "# dataset training size = 80%\n",
        "train_size = int(0.8 * len(X))\n",
        "X_train, X_test = X[:train_size], X[train_size:]\n",
        "y_train, y_test = y[:train_size], y[train_size:]\n"
      ],
      "metadata": {
        "id": "1yhZAC1bPy_G"
      },
      "execution_count": 49,
      "outputs": []
    },
    {
      "cell_type": "code",
      "source": [
        "model = Sequential([\n",
        "    LSTM(units=50, return_sequences=True, input_shape=(X_train.shape[1], 1)),\n",
        "    LSTM(units=50),\n",
        "    Dense(units=1)\n",
        "])\n",
        "\n",
        "model.compile(optimizer='adam', loss='mean_squared_error')\n",
        "model.fit(X_train, y_train, epochs=50, batch_size=32)\n"
      ],
      "metadata": {
        "colab": {
          "base_uri": "https://localhost:8080/"
        },
        "id": "KsfoZfciP0dH",
        "outputId": "2e74bb01-92af-413b-f55a-1c7217454c64"
      },
      "execution_count": 50,
      "outputs": [
        {
          "output_type": "stream",
          "name": "stdout",
          "text": [
            "Epoch 1/50\n",
            "13/13 [==============================] - 6s 12ms/step - loss: 0.0430\n",
            "Epoch 2/50\n",
            "13/13 [==============================] - 0s 13ms/step - loss: 0.0084\n",
            "Epoch 3/50\n",
            "13/13 [==============================] - 0s 13ms/step - loss: 0.0025\n",
            "Epoch 4/50\n",
            "13/13 [==============================] - 0s 12ms/step - loss: 0.0012\n",
            "Epoch 5/50\n",
            "13/13 [==============================] - 0s 13ms/step - loss: 0.0011\n",
            "Epoch 6/50\n",
            "13/13 [==============================] - 0s 12ms/step - loss: 0.0010\n",
            "Epoch 7/50\n",
            "13/13 [==============================] - 0s 13ms/step - loss: 0.0011\n",
            "Epoch 8/50\n",
            "13/13 [==============================] - 0s 12ms/step - loss: 0.0010\n",
            "Epoch 9/50\n",
            "13/13 [==============================] - 0s 13ms/step - loss: 0.0010\n",
            "Epoch 10/50\n",
            "13/13 [==============================] - 0s 12ms/step - loss: 0.0010\n",
            "Epoch 11/50\n",
            "13/13 [==============================] - 0s 12ms/step - loss: 0.0011\n",
            "Epoch 12/50\n",
            "13/13 [==============================] - 0s 14ms/step - loss: 0.0011\n",
            "Epoch 13/50\n",
            "13/13 [==============================] - 0s 14ms/step - loss: 9.8262e-04\n",
            "Epoch 14/50\n",
            "13/13 [==============================] - 0s 12ms/step - loss: 0.0010\n",
            "Epoch 15/50\n",
            "13/13 [==============================] - 0s 13ms/step - loss: 9.6948e-04\n",
            "Epoch 16/50\n",
            "13/13 [==============================] - 0s 17ms/step - loss: 9.9846e-04\n",
            "Epoch 17/50\n",
            "13/13 [==============================] - 0s 22ms/step - loss: 9.6050e-04\n",
            "Epoch 18/50\n",
            "13/13 [==============================] - 0s 21ms/step - loss: 9.5216e-04\n",
            "Epoch 19/50\n",
            "13/13 [==============================] - 0s 24ms/step - loss: 9.3657e-04\n",
            "Epoch 20/50\n",
            "13/13 [==============================] - 0s 24ms/step - loss: 9.3245e-04\n",
            "Epoch 21/50\n",
            "13/13 [==============================] - 0s 25ms/step - loss: 9.8366e-04\n",
            "Epoch 22/50\n",
            "13/13 [==============================] - 0s 23ms/step - loss: 0.0011\n",
            "Epoch 23/50\n",
            "13/13 [==============================] - 0s 22ms/step - loss: 9.8065e-04\n",
            "Epoch 24/50\n",
            "13/13 [==============================] - 0s 24ms/step - loss: 9.5846e-04\n",
            "Epoch 25/50\n",
            "13/13 [==============================] - 0s 25ms/step - loss: 9.2272e-04\n",
            "Epoch 26/50\n",
            "13/13 [==============================] - 0s 21ms/step - loss: 8.9710e-04\n",
            "Epoch 27/50\n",
            "13/13 [==============================] - 0s 21ms/step - loss: 8.9858e-04\n",
            "Epoch 28/50\n",
            "13/13 [==============================] - 0s 22ms/step - loss: 0.0010\n",
            "Epoch 29/50\n",
            "13/13 [==============================] - 0s 22ms/step - loss: 9.0272e-04\n",
            "Epoch 30/50\n",
            "13/13 [==============================] - 0s 22ms/step - loss: 8.7255e-04\n",
            "Epoch 31/50\n",
            "13/13 [==============================] - 0s 22ms/step - loss: 9.0384e-04\n",
            "Epoch 32/50\n",
            "13/13 [==============================] - 0s 27ms/step - loss: 9.1741e-04\n",
            "Epoch 33/50\n",
            "13/13 [==============================] - 0s 28ms/step - loss: 8.6171e-04\n",
            "Epoch 34/50\n",
            "13/13 [==============================] - 0s 28ms/step - loss: 8.2915e-04\n",
            "Epoch 35/50\n",
            "13/13 [==============================] - 0s 26ms/step - loss: 8.2503e-04\n",
            "Epoch 36/50\n",
            "13/13 [==============================] - 0s 23ms/step - loss: 8.2826e-04\n",
            "Epoch 37/50\n",
            "13/13 [==============================] - 0s 31ms/step - loss: 9.3760e-04\n",
            "Epoch 38/50\n",
            "13/13 [==============================] - 0s 32ms/step - loss: 8.3931e-04\n",
            "Epoch 39/50\n",
            "13/13 [==============================] - 0s 27ms/step - loss: 8.2298e-04\n",
            "Epoch 40/50\n",
            "13/13 [==============================] - 1s 42ms/step - loss: 8.7847e-04\n",
            "Epoch 41/50\n",
            "13/13 [==============================] - 1s 46ms/step - loss: 7.9873e-04\n",
            "Epoch 42/50\n",
            "13/13 [==============================] - 1s 42ms/step - loss: 7.8427e-04\n",
            "Epoch 43/50\n",
            "13/13 [==============================] - 1s 48ms/step - loss: 7.6782e-04\n",
            "Epoch 44/50\n",
            "13/13 [==============================] - 0s 35ms/step - loss: 8.3743e-04\n",
            "Epoch 45/50\n",
            "13/13 [==============================] - 0s 29ms/step - loss: 8.5133e-04\n",
            "Epoch 46/50\n",
            "13/13 [==============================] - 0s 28ms/step - loss: 7.3602e-04\n",
            "Epoch 47/50\n",
            "13/13 [==============================] - 0s 35ms/step - loss: 7.3208e-04\n",
            "Epoch 48/50\n",
            "13/13 [==============================] - 0s 22ms/step - loss: 7.2785e-04\n",
            "Epoch 49/50\n",
            "13/13 [==============================] - 0s 22ms/step - loss: 7.1741e-04\n",
            "Epoch 50/50\n",
            "13/13 [==============================] - 0s 24ms/step - loss: 7.5399e-04\n"
          ]
        },
        {
          "output_type": "execute_result",
          "data": {
            "text/plain": [
              "<keras.src.callbacks.History at 0x79ebf51400a0>"
            ]
          },
          "metadata": {},
          "execution_count": 50
        }
      ]
    },
    {
      "cell_type": "code",
      "source": [
        "y_pred_train = model.predict(X_train)\n",
        "y_pred_test = model.predict(X_test)\n"
      ],
      "metadata": {
        "colab": {
          "base_uri": "https://localhost:8080/"
        },
        "id": "v23bTJcuP2WB",
        "outputId": "294a4630-06d9-4e4c-8d27-9f4c1df787ca"
      },
      "execution_count": 51,
      "outputs": [
        {
          "output_type": "stream",
          "name": "stdout",
          "text": [
            "13/13 [==============================] - 1s 4ms/step\n",
            "4/4 [==============================] - 0s 6ms/step\n"
          ]
        }
      ]
    },
    {
      "cell_type": "code",
      "source": [
        "y_pred_train = scaler.inverse_transform(y_pred_train)\n",
        "y_pred_test = scaler.inverse_transform(y_pred_test)\n",
        "y_train_actual = scaler.inverse_transform(y_train.reshape(-1, 1))\n",
        "y_test_actual = scaler.inverse_transform(y_test.reshape(-1, 1))\n"
      ],
      "metadata": {
        "id": "tSC8mpd7P38x"
      },
      "execution_count": 52,
      "outputs": []
    },
    {
      "cell_type": "code",
      "source": [
        "mse_train = mean_squared_error(y_train_actual, y_pred_train)\n",
        "mse_test = mean_squared_error(y_test_actual, y_pred_test)\n",
        "\n",
        "print(f'Training MSE: {mse_train}')\n",
        "print(f'Test MSE: {mse_test}')\n"
      ],
      "metadata": {
        "colab": {
          "base_uri": "https://localhost:8080/"
        },
        "id": "ZxyCsKvzQP0s",
        "outputId": "b23d70cf-8e64-4354-ab6d-703d1119d45d"
      },
      "execution_count": 53,
      "outputs": [
        {
          "output_type": "stream",
          "name": "stdout",
          "text": [
            "Training MSE: 154.8348790247769\n",
            "Test MSE: 816.5125728258389\n"
          ]
        }
      ]
    },
    {
      "cell_type": "code",
      "source": [
        "plt.figure(figsize=(10, 5))\n",
        "plt.plot(y_test_actual, label='Actual Prices')\n",
        "plt.plot(y_pred_test, label='Predicted Prices')\n",
        "plt.legend()\n",
        "plt.show()\n"
      ],
      "metadata": {
        "colab": {
          "base_uri": "https://localhost:8080/",
          "height": 445
        },
        "id": "pa1tJVGwQYEo",
        "outputId": "3eba860b-f87f-4cad-adac-13a77f2152be"
      },
      "execution_count": 54,
      "outputs": [
        {
          "output_type": "display_data",
          "data": {
            "text/plain": [
              "<Figure size 1000x500 with 1 Axes>"
            ],
            "image/png": "[encoded data removed]"
          },
          "metadata": {}
        }
      ]
    }
  ]
}